{
 "cells": [
  {
   "cell_type": "code",
   "execution_count": 13,
   "id": "8b5a2f15-a541-439d-890c-b9ff08fe9024",
   "metadata": {},
   "outputs": [],
   "source": [
    "import datasets\n",
    "import json\n",
    "from pathlib import Path"
   ]
  },
  {
   "cell_type": "code",
   "execution_count": 14,
   "id": "7af4818b-43ea-42f9-9605-40500f5c53ee",
   "metadata": {},
   "outputs": [],
   "source": [
    "out_dir = Path(\"multimodel_assets/\")"
   ]
  },
  {
   "cell_type": "markdown",
   "id": "b11885a1-7c4e-4fcc-8d84-bc3608161ded",
   "metadata": {},
   "source": [
    "# e2e_nlg"
   ]
  },
  {
   "cell_type": "code",
   "execution_count": 7,
   "id": "f53a3727-fa1c-4e57-b214-e788c9c23c50",
   "metadata": {},
   "outputs": [
    {
     "name": "stdout",
     "output_type": "stream",
     "text": [
      "Transform the meaning representation into a sentence.\n",
      "\n",
      "Meaning representation: name[Alimentum], food[Chinese], priceRange[less than £20], area[riverside], familyFriendly[yes]\n",
      "Natural language: Alimentum is a family-friendly Chinese food restaurant in the Riverside area where you can eat for low prices.\n",
      "\n",
      "Meaning representation: {meaning_representation}\n",
      "Natural language:\n"
     ]
    },
    {
     "data": {
      "text/plain": [
       "392"
      ]
     },
     "execution_count": 7,
     "metadata": {},
     "output_type": "execute_result"
    }
   ],
   "source": [
    "icl_per_prompt = 1\n",
    "INSTRUCTION = \"Transform the meaning representation into a sentence.\"\n",
    "dataset = datasets.load_dataset(\"e2e_nlg\", split=\"train\", cache_dir = \"../../cache\").to_pandas()\n",
    "dataset.head(3)\n",
    "\n",
    "prompt_fpath = out_dir / \"e2e_nlg_1_shot.json\"\n",
    "prompts = []\n",
    "icl_df = dataset.sample(icl_per_prompt, random_state=0)\n",
    "prompt = INSTRUCTION + \"\\n\\n\"\n",
    "for row in icl_df.to_dict(orient=\"records\"):\n",
    "    prompt += \"Meaning representation: {meaning_representation}\\nNatural language: {human_reference}\\n\\n\".format(**row)\n",
    "prompt += \"Meaning representation: {meaning_representation}\\nNatural language:\"\n",
    "prompts.append(prompt)\n",
    "print(prompts[0])\n",
    "prompt_fpath.write_text(json.dumps(prompts, indent=4))"
   ]
  },
  {
   "cell_type": "markdown",
   "id": "42f080ca-a51b-49dc-9a51-f8b7381f5305",
   "metadata": {},
   "source": [
    "## Squad"
   ]
  },
  {
   "cell_type": "code",
   "execution_count": 8,
   "id": "b64bcaf7-00b6-4e0d-a84a-969865362345",
   "metadata": {},
   "outputs": [
    {
     "data": {
      "text/plain": [
       "52"
      ]
     },
     "execution_count": 8,
     "metadata": {},
     "output_type": "execute_result"
    }
   ],
   "source": [
    "prompt_fpath = out_dir / \"squad.json\"\n",
    "prompts = [\"{context}\\n\\nQuestion: {question}\\nAnswer:\"]\n",
    "prompt_fpath.write_text(json.dumps(prompts, indent=4))"
   ]
  },
  {
   "cell_type": "markdown",
   "id": "e458b6b9-04eb-4e3e-a836-30844e3c745b",
   "metadata": {},
   "source": [
    "## CNN/Dailymail"
   ]
  },
  {
   "cell_type": "code",
   "execution_count": 3,
   "id": "5afb9c8a-8fd2-4831-bd2a-b595fae8f5a0",
   "metadata": {},
   "outputs": [
    {
     "data": {
      "text/plain": [
       "77"
      ]
     },
     "execution_count": 3,
     "metadata": {},
     "output_type": "execute_result"
    }
   ],
   "source": [
    "prompt_fpath = out_dir / \"cnn_dailymail_0_shot.json\"\n",
    "prompts = [\"Write a short summary of the article.\\nArticle: {article}\\nSummary:\"]\n",
    "prompt_fpath.write_text(json.dumps(prompts, indent=4))"
   ]
  },
  {
   "cell_type": "markdown",
   "id": "d88bd47e-ffa6-4f42-ae60-e740e34389c1",
   "metadata": {},
   "source": [
    "## Xsum"
   ]
  },
  {
   "cell_type": "code",
   "execution_count": 4,
   "id": "459ed72c-e293-4286-a6a3-667f7a30a276",
   "metadata": {},
   "outputs": [
    {
     "data": {
      "text/plain": [
       "77"
      ]
     },
     "execution_count": 4,
     "metadata": {},
     "output_type": "execute_result"
    }
   ],
   "source": [
    "prompt_fpath = out_dir / \"xsum_0_shot.json\"\n",
    "prompts = [\"Write a short summary of the article.\\nArticle: {article}\\nSummary:\"]\n",
    "prompt_fpath.write_text(json.dumps(prompts, indent=4))"
   ]
  },
  {
   "cell_type": "markdown",
   "id": "b7374543-f7f1-4a0a-a05a-c10bcbf1e8ce",
   "metadata": {},
   "source": [
    "# TriviaQA\n",
    "\n",
    "We create two versions. \n",
    "\n",
    "- a reading comprehension version in which there is a passage and a question\n",
    "- a pure knowledge version in which there is just a question"
   ]
  },
  {
   "cell_type": "code",
   "execution_count": 6,
   "id": "aebc5839-37d3-470d-a12c-91f7bb9e6af6",
   "metadata": {},
   "outputs": [
    {
     "data": {
      "text/plain": [
       "20"
      ]
     },
     "execution_count": 6,
     "metadata": {},
     "output_type": "execute_result"
    }
   ],
   "source": [
    "# Knowledge version\n",
    "prompt_fpath = out_dir / \"trivia_qa_knowledge.json\"\n",
    "prompts = [\"{question}\"]\n",
    "prompt_fpath.write_text(json.dumps(prompts, indent=4))"
   ]
  },
  {
   "cell_type": "code",
   "execution_count": 9,
   "id": "6c8feac6-ecd1-4fc7-941d-27ab06b71afb",
   "metadata": {},
   "outputs": [
    {
     "data": {
      "text/html": [
       "<div>\n",
       "<style scoped>\n",
       "    .dataframe tbody tr th:only-of-type {\n",
       "        vertical-align: middle;\n",
       "    }\n",
       "\n",
       "    .dataframe tbody tr th {\n",
       "        vertical-align: top;\n",
       "    }\n",
       "\n",
       "    .dataframe thead th {\n",
       "        text-align: right;\n",
       "    }\n",
       "</style>\n",
       "<table border=\"1\" class=\"dataframe\">\n",
       "  <thead>\n",
       "    <tr style=\"text-align: right;\">\n",
       "      <th></th>\n",
       "      <th>question</th>\n",
       "      <th>question_id</th>\n",
       "      <th>question_source</th>\n",
       "      <th>entity_pages</th>\n",
       "      <th>search_results</th>\n",
       "      <th>answer</th>\n",
       "    </tr>\n",
       "  </thead>\n",
       "  <tbody>\n",
       "    <tr>\n",
       "      <th>0</th>\n",
       "      <td>Which American-born Sinclair won the Nobel Pri...</td>\n",
       "      <td>tc_1</td>\n",
       "      <td>http://www.triviacountry.com/</td>\n",
       "      <td>{'doc_source': [], 'filename': [], 'title': []...</td>\n",
       "      <td>{'description': ['The Nobel Prize in Literatur...</td>\n",
       "      <td>{'aliases': ['(Harry) Sinclair Lewis', 'Harry ...</td>\n",
       "    </tr>\n",
       "    <tr>\n",
       "      <th>1</th>\n",
       "      <td>Where in England was Dame Judi Dench born?</td>\n",
       "      <td>tc_3</td>\n",
       "      <td>http://www.triviacountry.com/</td>\n",
       "      <td>{'doc_source': ['TagMe', 'TagMe'], 'filename':...</td>\n",
       "      <td>{'description': ['Judi Dench, Actress: Skyfall...</td>\n",
       "      <td>{'aliases': ['Park Grove (1895)', 'York UA', '...</td>\n",
       "    </tr>\n",
       "    <tr>\n",
       "      <th>2</th>\n",
       "      <td>In which decade did Billboard magazine first p...</td>\n",
       "      <td>tc_5</td>\n",
       "      <td>http://www.triviacountry.com/</td>\n",
       "      <td>{'doc_source': [], 'filename': [], 'title': []...</td>\n",
       "      <td>{'description': ['Song chart US Billboard. The...</td>\n",
       "      <td>{'aliases': ['30's', '30’s', '30s', '30s AD', ...</td>\n",
       "    </tr>\n",
       "  </tbody>\n",
       "</table>\n",
       "</div>"
      ],
      "text/plain": [
       "                                            question question_id  \\\n",
       "0  Which American-born Sinclair won the Nobel Pri...        tc_1   \n",
       "1         Where in England was Dame Judi Dench born?        tc_3   \n",
       "2  In which decade did Billboard magazine first p...        tc_5   \n",
       "\n",
       "                 question_source  \\\n",
       "0  http://www.triviacountry.com/   \n",
       "1  http://www.triviacountry.com/   \n",
       "2  http://www.triviacountry.com/   \n",
       "\n",
       "                                        entity_pages  \\\n",
       "0  {'doc_source': [], 'filename': [], 'title': []...   \n",
       "1  {'doc_source': ['TagMe', 'TagMe'], 'filename':...   \n",
       "2  {'doc_source': [], 'filename': [], 'title': []...   \n",
       "\n",
       "                                      search_results  \\\n",
       "0  {'description': ['The Nobel Prize in Literatur...   \n",
       "1  {'description': ['Judi Dench, Actress: Skyfall...   \n",
       "2  {'description': ['Song chart US Billboard. The...   \n",
       "\n",
       "                                              answer  \n",
       "0  {'aliases': ['(Harry) Sinclair Lewis', 'Harry ...  \n",
       "1  {'aliases': ['Park Grove (1895)', 'York UA', '...  \n",
       "2  {'aliases': ['30's', '30’s', '30s', '30s AD', ...  "
      ]
     },
     "execution_count": 9,
     "metadata": {},
     "output_type": "execute_result"
    }
   ],
   "source": [
    "# Reading comprehension version\n",
    "dataset = datasets.load_dataset(\"mandarjoshi/trivia_qa\", \"rc\", split='train[:10%]', cache_dir = \"../../cache\").to_pandas()\n",
    "dataset.head(3)"
   ]
  },
  {
   "cell_type": "code",
   "execution_count": 12,
   "id": "2c24dc44-be3b-461b-9b3c-19786d5839cc",
   "metadata": {},
   "outputs": [
    {
     "data": {
      "text/plain": [
       "{'aliases': array(['(Harry) Sinclair Lewis', 'Harry Sinclair Lewis',\n",
       "        'Lewis, (Harry) Sinclair', 'Grace Hegger', 'Sinclair Lewis'],\n",
       "       dtype=object),\n",
       " 'normalized_aliases': array(['grace hegger', 'lewis harry sinclair', 'harry sinclair lewis',\n",
       "        'sinclair lewis'], dtype=object),\n",
       " 'matched_wiki_entity_name': '',\n",
       " 'normalized_matched_wiki_entity_name': '',\n",
       " 'normalized_value': 'sinclair lewis',\n",
       " 'type': 'WikipediaEntity',\n",
       " 'value': 'Sinclair Lewis'}"
      ]
     },
     "execution_count": 12,
     "metadata": {},
     "output_type": "execute_result"
    }
   ],
   "source": [
    "dataset.iloc[0][\"answer\"]"
   ]
  },
  {
   "cell_type": "markdown",
   "id": "9dde9219-0106-4f3c-86d7-0ef1af4a85a7",
   "metadata": {},
   "source": [
    "# definition_extraction"
   ]
  },
  {
   "cell_type": "code",
   "execution_count": 15,
   "id": "13e3d7f2-6e3c-46a9-86be-2c23aff2dc15",
   "metadata": {},
   "outputs": [
    {
     "data": {
      "text/plain": [
       "101"
      ]
     },
     "execution_count": 15,
     "metadata": {},
     "output_type": "execute_result"
    }
   ],
   "source": [
    "prompt_fpath = out_dir / \"definition_extraction_0_shot.json\"\n",
    "prompts = [\"For the sentence below, identify the term that is being defined.\\n\\nSentence: {text}\\nTerm:\"]\n",
    "prompt_fpath.write_text(json.dumps(prompts, indent=4))"
   ]
  },
  {
   "cell_type": "code",
   "execution_count": null,
   "id": "bbe182fb-18f3-41aa-ac20-b848f6f56402",
   "metadata": {},
   "outputs": [],
   "source": []
  }
 ],
 "metadata": {
  "kernelspec": {
   "display_name": "Python 3 (ipykernel)",
   "language": "python",
   "name": "python3"
  },
  "language_info": {
   "codemirror_mode": {
    "name": "ipython",
    "version": 3
   },
   "file_extension": ".py",
   "mimetype": "text/x-python",
   "name": "python",
   "nbconvert_exporter": "python",
   "pygments_lexer": "ipython3",
   "version": "3.8.18"
  }
 },
 "nbformat": 4,
 "nbformat_minor": 5
}
