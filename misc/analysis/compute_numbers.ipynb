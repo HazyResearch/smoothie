{
 "cells": [
  {
   "cell_type": "markdown",
   "metadata": {},
   "source": [
    "This notebook is used to compute random useful numbers. "
   ]
  },
  {
   "cell_type": "code",
   "execution_count": 3,
   "metadata": {},
   "outputs": [
    {
     "name": "stdout",
     "output_type": "stream",
     "text": [
      "10 ensembles.\n"
     ]
    }
   ],
   "source": [
    "# Compute the number of multi-model ensembles we use for selection experiments.\n",
    "import sys\n",
    "sys.path.append(\"../\")\n",
    "from src.ensembles import MODEL_GROUPS\n",
    "\n",
    "count = 0 \n",
    "for _, v in MODEL_GROUPS.items():\n",
    "    if len(v) == 5:\n",
    "        count += 1\n",
    "print(f\"{count} ensembles.\")"
   ]
  },
  {
   "cell_type": "code",
   "execution_count": null,
   "metadata": {},
   "outputs": [],
   "source": []
  }
 ],
 "metadata": {
  "kernelspec": {
   "display_name": "smoothie",
   "language": "python",
   "name": "python3"
  },
  "language_info": {
   "codemirror_mode": {
    "name": "ipython",
    "version": 3
   },
   "file_extension": ".py",
   "mimetype": "text/x-python",
   "name": "python",
   "nbconvert_exporter": "python",
   "pygments_lexer": "ipython3",
   "version": "3.10.14"
  }
 },
 "nbformat": 4,
 "nbformat_minor": 2
}
