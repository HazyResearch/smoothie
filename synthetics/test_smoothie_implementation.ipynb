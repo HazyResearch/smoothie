{
 "cells": [
  {
   "cell_type": "markdown",
   "id": "57697f3d-891d-420f-a484-0e42c8ab57a2",
   "metadata": {},
   "source": [
    "Tests our implementation of smoothie"
   ]
  },
  {
   "cell_type": "code",
   "execution_count": 3,
   "id": "2ccd77cf-a656-4061-b998-bcdd10eb7b81",
   "metadata": {},
   "outputs": [],
   "source": [
    "import sys\n",
    "sys.path.append(\"..\")\n",
    "\n",
    "from src.smoothie import Smoothie\n",
    "import numpy as np"
   ]
  },
  {
   "cell_type": "code",
   "execution_count": 13,
   "id": "1ff11a56-7bea-485d-96e3-33a065ede7a9",
   "metadata": {},
   "outputs": [
    {
     "data": {
      "text/plain": [
       "(1000, 3, 10)"
      ]
     },
     "execution_count": 13,
     "metadata": {},
     "output_type": "execute_result"
    }
   ],
   "source": [
    "# Build distribution of LFs\n",
    "n_samples = 1000\n",
    "n_voters = 3\n",
    "n_dim = 10\n",
    "\n",
    "# Construct groundtruth theta \"accuracies\"\n",
    "theta = np.random.random(n_voters)*50 # all positive for now. Larger theta = less noisy LFs.\n",
    "sigma_diag = np.zeros(n_voters*n_dim)\n",
    "for i in range(len(sigma_diag)):\n",
    "    prompt_idx = int(i / n_dim)\n",
    "    sigma_diag[i] = 1/(2 * theta[prompt_idx])\n",
    "sigma = np.diag(sigma_diag)\n",
    "mu = np.zeros(n_voters * n_dim)\n",
    "\n",
    "\n",
    "lambda_arr = []\n",
    "true_y = []\n",
    "while len(lambda_arr) < n_samples:\n",
    "    diff = np.random.multivariate_normal(mu, sigma)\n",
    "    y = np.random.random(n_dim)\n",
    "    \n",
    "    y_repeated = np.tile(y, reps= n_voters)\n",
    "    lambdas = (y_repeated + diff).reshape((n_voters, n_dim))\n",
    "    lambda_arr.append(lambdas)\n",
    "    true_y.append(y)\n",
    "\n",
    "lambda_arr = np.array(lambda_arr)\n",
    "true_y = np.array(true_y)\n",
    "lambda_arr.shape"
   ]
  },
  {
   "cell_type": "code",
   "execution_count": 14,
   "id": "f98b8acf-783d-4a3e-a489-117e3d1ecf6f",
   "metadata": {},
   "outputs": [
    {
     "name": "stdout",
     "output_type": "stream",
     "text": [
      "True theta:  [16.11798931  7.86106545 10.94555468]\n",
      "Learned theta:  [15.92251198  7.9550514  10.85990429]\n"
     ]
    }
   ],
   "source": [
    "model = Smoothie(n_voters, n_dim)\n",
    "model.fit(lambda_arr)\n",
    "print(\"True theta: \", theta)\n",
    "print(\"Learned theta: \", model.theta)"
   ]
  },
  {
   "cell_type": "code",
   "execution_count": 19,
   "id": "126b8783-527c-46ee-ae5a-a29ecf19027b",
   "metadata": {},
   "outputs": [
    {
     "data": {
      "text/plain": [
       "0.1455943349903884"
      ]
     },
     "execution_count": 19,
     "metadata": {},
     "output_type": "execute_result"
    }
   ],
   "source": [
    "# Measure per-sample error\n",
    "errs = []\n",
    "for idx in range(len(true_y)):\n",
    "    y_pred = model.predict(lambda_arr[idx])\n",
    "    errs.append(np.linalg.norm(y_pred - true_y[idx], 2)**2)\n",
    "np.mean(errs)"
   ]
  },
  {
   "cell_type": "code",
   "execution_count": null,
   "id": "fd155448-a7e7-467f-aa92-8d46753662e7",
   "metadata": {},
   "outputs": [],
   "source": []
  }
 ],
 "metadata": {
  "kernelspec": {
   "display_name": "Python 3 (ipykernel)",
   "language": "python",
   "name": "python3"
  },
  "language_info": {
   "codemirror_mode": {
    "name": "ipython",
    "version": 3
   },
   "file_extension": ".py",
   "mimetype": "text/x-python",
   "name": "python",
   "nbconvert_exporter": "python",
   "pygments_lexer": "ipython3",
   "version": "3.8.18"
  }
 },
 "nbformat": 4,
 "nbformat_minor": 5
}
